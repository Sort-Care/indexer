{
 "cells": [
  {
   "cell_type": "code",
   "execution_count": null,
   "metadata": {},
   "outputs": [],
   "source": [
    "import json\n",
    "import pickle"
   ]
  },
  {
   "cell_type": "code",
   "execution_count": null,
   "metadata": {},
   "outputs": [],
   "source": [
    "dc = {\n",
    "    'test': [(1,1), (2,3), (3,1)]\n",
    "}"
   ]
  },
  {
   "cell_type": "code",
   "execution_count": null,
   "metadata": {},
   "outputs": [],
   "source": [
    "s = json.dumps(dc).encode('utf-8')\n",
    "type(s)"
   ]
  },
  {
   "cell_type": "code",
   "execution_count": null,
   "metadata": {},
   "outputs": [],
   "source": [
    "print(s)"
   ]
  },
  {
   "cell_type": "code",
   "execution_count": null,
   "metadata": {},
   "outputs": [],
   "source": [
    "res = json.loads(s.decode('utf-8'))\n",
    "print(res)"
   ]
  },
  {
   "cell_type": "code",
   "execution_count": null,
   "metadata": {},
   "outputs": [],
   "source": [
    "def vbyte_encoding():\n",
    "    pass"
   ]
  },
  {
   "cell_type": "code",
   "execution_count": null,
   "metadata": {},
   "outputs": [],
   "source": [
    "def vbyte_decoding():\n",
    "    pass"
   ]
  },
  {
   "cell_type": "code",
   "execution_count": null,
   "metadata": {},
   "outputs": [],
   "source": [
    "print(134 >> 2)"
   ]
  },
  {
   "cell_type": "code",
   "execution_count": 3,
   "metadata": {},
   "outputs": [],
   "source": [
    "def rshift(val, n):\n",
    "    return (val % 0x100000000) >> n"
   ]
  },
  {
   "cell_type": "code",
   "execution_count": null,
   "metadata": {},
   "outputs": [],
   "source": [
    "print(rshift(145, 7))"
   ]
  },
  {
   "cell_type": "code",
   "execution_count": null,
   "metadata": {},
   "outputs": [],
   "source": [
    "print( -1000 >> 3 )"
   ]
  },
  {
   "cell_type": "code",
   "execution_count": null,
   "metadata": {},
   "outputs": [],
   "source": [
    "from inv_util import *"
   ]
  },
  {
   "cell_type": "code",
   "execution_count": 4,
   "metadata": {},
   "outputs": [],
   "source": [
    "def vbyte_encoding(arr):\n",
    "    ol = bytearray()\n",
    "    for i in arr:\n",
    "        while i >= 128:\n",
    "            ol.append( i & 0x7f )\n",
    "            i = rshift(i, 7)\n",
    "        ol.append(i | 0x80)\n",
    "    return ol"
   ]
  },
  {
   "cell_type": "code",
   "execution_count": 5,
   "metadata": {},
   "outputs": [
    {
     "name": "stdout",
     "output_type": "stream",
     "text": [
      "���\u0000����L�4����\n"
     ]
    }
   ],
   "source": [
    "res = vbyte_encoding([1,2,1,128,1,3,6,1100,180,1,1,1])\n",
    "print(res)"
   ]
  },
  {
   "cell_type": "code",
   "execution_count": 6,
   "metadata": {},
   "outputs": [],
   "source": [
    "def vbyte_decoding(arr):\n",
    "    ol = []\n",
    "    for i in range(len(arr)):\n",
    "        position = 0\n",
    "        res = int( arr[i] & 0x7f)\n",
    "        \n",
    "        while (arr[i] & 0x80) == 0:\n",
    "            i += 1\n",
    "            position += 1\n",
    "            unsignedByte = int( arr[i] & 0x7f )\n",
    "            res |= ( unsignedByte << (7 * position))\n",
    "        ol.append(res)\n",
    "    return ol\n",
    "\n",
    "def remove_sth(arr):\n",
    "    ra = []\n",
    "    ignoretag = False\n",
    "    for a in arr:\n",
    "        if ignoretag == False:\n",
    "            ra.append(a)\n",
    "        else:\n",
    "            ignoretag = False\n",
    "            continue\n",
    "        if a >= 128: \n",
    "            ignoretag = True\n",
    "    return ra"
   ]
  },
  {
   "cell_type": "code",
   "execution_count": 7,
   "metadata": {},
   "outputs": [
    {
     "name": "stdout",
     "output_type": "stream",
     "text": [
      "[1, 2, 1, 128, 1, 1, 3, 6, 1100, 8, 180, 1, 1, 1, 1]\n",
      "[1, 2, 1, 128, 1, 3, 6, 1100, 180, 1, 1, 1]\n"
     ]
    }
   ],
   "source": [
    "deres = vbyte_decoding(res)\n",
    "print(deres)\n",
    "removedres = remove_sth(deres)\n",
    "print(removedres)"
   ]
  },
  {
   "cell_type": "code",
   "execution_count": 8,
   "metadata": {},
   "outputs": [
    {
     "name": "stdout",
     "output_type": "stream",
     "text": [
      "0b1111111\n"
     ]
    }
   ],
   "source": [
    "print(bin(0x7f))"
   ]
  },
  {
   "cell_type": "code",
   "execution_count": 10,
   "metadata": {},
   "outputs": [],
   "source": [
    "from invindex import * \n",
    "ind = Indexer('')"
   ]
  },
  {
   "cell_type": "code",
   "execution_count": 12,
   "metadata": {},
   "outputs": [
    {
     "name": "stdout",
     "output_type": "stream",
     "text": [
      "15\n",
      "[1, 2, 1, 128, 1, 3, 6, 1100, 180, 1, 1, 1]\n"
     ]
    }
   ],
   "source": [
    "r1 = ind.vbyte_encoding([1,2,1,128,1,3,6,1100,180,1,1,1])\n",
    "print(len(r1))\n",
    "r2 = ind.vbyte_decoding(r1)\n",
    "print(r2)"
   ]
  },
  {
   "cell_type": "code",
   "execution_count": 14,
   "metadata": {},
   "outputs": [
    {
     "name": "stdout",
     "output_type": "stream",
     "text": [
      "112\n",
      "72\n"
     ]
    }
   ],
   "source": [
    "import sys\n",
    "print(sys.getsizeof([1,2,3,4,5]))\n",
    "print(sys.getsizeof([]))"
   ]
  },
  {
   "cell_type": "code",
   "execution_count": null,
   "metadata": {},
   "outputs": [],
   "source": []
  }
 ],
 "metadata": {
  "kernelspec": {
   "display_name": "Python 2",
   "language": "python",
   "name": "python2"
  },
  "language_info": {
   "codemirror_mode": {
    "name": "ipython",
    "version": 2
   },
   "file_extension": ".py",
   "mimetype": "text/x-python",
   "name": "python",
   "nbconvert_exporter": "python",
   "pygments_lexer": "ipython2",
   "version": "2.7.14"
  }
 },
 "nbformat": 4,
 "nbformat_minor": 2
}
