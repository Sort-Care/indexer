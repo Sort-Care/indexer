{
 "cells": [
  {
   "cell_type": "code",
   "execution_count": 1,
   "metadata": {},
   "outputs": [],
   "source": [
    "from invindex import *"
   ]
  },
  {
   "cell_type": "code",
   "execution_count": 2,
   "metadata": {},
   "outputs": [],
   "source": [
    "ind = Indexer('shakespeare-scenes.json', 'fstdump.dat')\n",
    "ind.readIn()\n",
    "ind.prepocess_scenes()\n",
    "ind.build_inverted_index()\n",
    "ind.delta_encoding()\n",
    "ind.compact_index()\n",
    "ind.apply_vbyte()"
   ]
  },
  {
   "cell_type": "code",
   "execution_count": null,
   "metadata": {},
   "outputs": [],
   "source": [
    "ind.process_uncompressed_index()"
   ]
  },
  {
   "cell_type": "code",
   "execution_count": null,
   "metadata": {},
   "outputs": [],
   "source": [
    "ind.dump_index()"
   ]
  },
  {
   "cell_type": "code",
   "execution_count": 3,
   "metadata": {},
   "outputs": [],
   "source": [
    "ind.count_tf_df()"
   ]
  },
  {
   "cell_type": "code",
   "execution_count": 11,
   "metadata": {},
   "outputs": [
    {
     "name": "stdout",
     "output_type": "stream",
     "text": [
      "[ 7.  8. 15. 20.  1. 30.  6.  0. 34. 14. 26. 14.  4. 17. 28. 13.  8.  5.\n",
      " 18. 18.  6. 37.  5. 50.  6.  6.  6.  7.  2.  5.  5. 13.  0.  2. 27. 19.\n",
      " 26.  3. 32. 15.  7.  0.  3. 14. 15.  7. 26.  6.  6.  5.  2.  9.  0. 21.\n",
      " 16. 30.  8. 18. 11. 12.  7. 24. 46.  5.  9. 23.  4.  5.  0.  4.  4.  2.\n",
      "  2.  4. 15.  5.  2. 15.  3.  6. 17. 18. 23.  1.  7.  8. 16. 10. 13.  4.\n",
      " 26.  0.  2.  7.  2.  2.  2.  3.  0. 12. 12. 10. 28. 20.  8. 16.  5.  1.\n",
      "  5.  6.  1.  9.  6.  4. 15. 14.  6.  3. 40.  2.  5.  5. 29.  0.  4.  9.\n",
      " 16.  1.  6.  7.  5. 30. 16. 30.  7. 15.  4.  1.  4.  2. 23.  1.  9. 20.\n",
      " 31.  6. 11.  9.  5. 13.  5. 30. 14.  8. 18.  7.  9.  5.  2.  5.  5. 10.\n",
      "  6.  1. 12. 17. 17.  6.  4.  3.  2.  4.  4.  4.  6.  8.  8.  4.  0.  8.\n",
      "  4.  3.  2.  5. 12. 15.  7.  0. 16.  5.  5. 24. 26. 15.  5. 23. 15.  3.\n",
      " 19.  8.  6. 20.  9. 17.  7. 22. 13.  9. 30. 12.  5.  2.  6.  1.  1.  9.\n",
      "  8.  2.  6.  7. 27.  5. 11.  4. 10. 32. 28.  8. 18. 13.  9.  9. 33.  5.\n",
      " 61. 18.  3.  4. 20. 18. 12.  4.  1. 11. 15. 14. 16. 40.  8.  5.  7.  9.\n",
      "  3. 12.  5.  4.  8.  7.  0.  5. 10.  9.  6. 16.  6. 12. 15. 13.  2. 14.\n",
      " 13. 16. 10.  2. 19. 22. 19.  2. 18.  6.  1.  6.  3. 20. 11.  2. 37. 46.\n",
      " 17.  3. 15.  6. 17.  5. 11. 22. 13.  5. 10. 11. 20.  2.  5. 11.  3.  5.\n",
      "  3.  4.  9.  9. 29. 10.  8. 11.  2. 13.  1.  2. 17.  5. 16.  6.  4.  2.\n",
      "  0.  2.  2.  6. 11. 21.  2.  7.  3.  1.  2.  1.  1.  7.  5. 25. 15. 13.\n",
      " 26.  7. 13.  5.  7.  5.  2. 23. 12.  3.  4.  7. 17.  2.  0.  6.  6.  9.\n",
      " 11. 17.  6.  0.  3. 19. 22.  5.  3.  1.  6.  5.  0.  4.  3.  4.  4.  2.\n",
      "  9. 10.  8. 25.  8.  6.  6.  6. 16. 17.  1.  5. 31.  4. 16.  4. 11. 12.\n",
      " 10.  5. 10.  9. 23.  6.  2. 14.  2.  4. 20.  6. 25.  2.  4. 22. 11. 14.\n",
      " 14.  7.  3. 26.  5.  1.  4. 33. 16. 15.  2. 28. 10.  8. 12.  1. 22.  2.\n",
      "  9.  3. 23.  2.  8.  6.  6. 10.  3.  3.  5. 33.  5.  5.  1. 27. 18.  4.\n",
      "  2.  9.  5.  9.  6.  9. 18.  6.  5. 13. 13.  8. 23. 13. 12.  1.  1. 42.\n",
      "  4.  5.  2.  3.  4. 12. 31.  3. 16.  1.  6. 27. 27.  1. 12. 15.  7.  3.\n",
      " 25. 18.  1.  1.  1. 44. 20.  8.  6. 10. 12. 10. 15.  9. 10.  5.  7.  2.\n",
      "  4.  4.  8.  4.  5.  1. 14. 16.  1.  7.  1. 41. 25.  2. 18.  3. 12. 11.\n",
      "  3.  2.  9. 70. 15. 12. 13. 13. 16.  9.  6.  5.  3.  7.  7.  1. 12.  8.\n",
      " 14.  6.  9.  8.  2.  4.  4.  8.  0.  1.  1.  3.  2. 20.  2.  3.  2.  3.\n",
      "  3.  2.  0.  6.  5.  0.  0.  2.  1. 10. 15.  5. 27.  5. 35. 30. 18. 10.\n",
      " 11.  4. 15. 14.  6.  6.  6.  8.  3.  6. 12.  0.  3.  7. 25.  7.  4. 11.\n",
      "  6. 14.  1.  4.  2. 15.  3. 11.  8.  2. 20.  3.  5.  4.  5.  6.  3.  7.\n",
      "  9. 14.  0.  6.  4. 20.  3. 20. 22. 19.  6.  8. 10. 21.  9. 14.  9. 49.\n",
      " 11.  5. 14.  4.  9.  4.  2. 21. 12. 10.  7. 10. 30. 18.  3. 20. 10. 18.\n",
      " 10.  4.  0.  4.  5.  2.  1.  9.  0. 29.  2.  5.  9. 18.  3. 12.  1.  5.\n",
      "  1.  7. 14. 51. 18. 11. 12. 13. 12. 20. 18.  4. 16.  0.  6. 23. 10. 13.\n",
      "  5.  3.  3.  1.  2.  3.  2.  7.  5. 18. 12.  7.  9.  4.  2.  6.  1.  1.\n",
      "  1.  9.  7. 25.  2. 13.  0.  1.  2. 12. 10.  5.  6. 40. 48. 20.  2.  1.\n",
      " 12.  3. 14. 10.  2.  6.  0.  0.  0.  3.  3. 28. 21.  2. 34.  9.  9.  4.\n",
      " 25.  5. 12.  1.  9. 40. 21.  1.  4.  6.]\n"
     ]
    }
   ],
   "source": [
    "print(ind.)"
   ]
  },
  {
   "cell_type": "code",
   "execution_count": null,
   "metadata": {},
   "outputs": [],
   "source": [
    "print(ind.term_offset_size)"
   ]
  },
  {
   "cell_type": "code",
   "execution_count": null,
   "metadata": {},
   "outputs": [],
   "source": [
    "from array import array\n",
    "tf = open('ta.dat', 'w')\n",
    "tf.write(str(ind.ucmp_index['s']))\n",
    "tf.close()\n",
    "inf = open('ta.dat', 'r')\n",
    "data = eval(inf.readline())\n",
    "print(data)"
   ]
  },
  {
   "cell_type": "code",
   "execution_count": null,
   "metadata": {},
   "outputs": [],
   "source": [
    "inf.close()\n",
    "import linecache\n",
    "theline = linecache.getline('ta.dat', 1)\n",
    "dt = eval(theline)\n",
    "print(type(dt))"
   ]
  },
  {
   "cell_type": "code",
   "execution_count": null,
   "metadata": {},
   "outputs": [],
   "source": [
    "ind.dump_compressed_index()"
   ]
  },
  {
   "cell_type": "code",
   "execution_count": null,
   "metadata": {},
   "outputs": [],
   "source": [
    "print(ind.term_offset_size)"
   ]
  },
  {
   "cell_type": "code",
   "execution_count": null,
   "metadata": {},
   "outputs": [],
   "source": [
    "ind"
   ]
  },
  {
   "cell_type": "code",
   "execution_count": null,
   "metadata": {},
   "outputs": [],
   "source": [
    "print(len(ind.scenes[5]['tlist']))"
   ]
  },
  {
   "cell_type": "code",
   "execution_count": null,
   "metadata": {},
   "outputs": [],
   "source": [
    "for sec in ind.scenes:\n",
    "    print(sec['playId'], sec['sceneId'], sec['sceneNum'])"
   ]
  },
  {
   "cell_type": "code",
   "execution_count": null,
   "metadata": {},
   "outputs": [],
   "source": [
    "print(ind.inv_index['s'])"
   ]
  },
  {
   "cell_type": "code",
   "execution_count": null,
   "metadata": {},
   "outputs": [],
   "source": [
    "ind.delta_encoding()\n",
    "ind.compact_index()"
   ]
  },
  {
   "cell_type": "code",
   "execution_count": null,
   "metadata": {},
   "outputs": [],
   "source": [
    "print(ind.delta_index['s'])"
   ]
  },
  {
   "cell_type": "code",
   "execution_count": null,
   "metadata": {},
   "outputs": [],
   "source": [
    "print(ind.cmp_index['s'])"
   ]
  },
  {
   "cell_type": "code",
   "execution_count": null,
   "metadata": {},
   "outputs": [],
   "source": [
    "print(ind.vbyte_index['s'])"
   ]
  },
  {
   "cell_type": "code",
   "execution_count": null,
   "metadata": {},
   "outputs": [],
   "source": [
    "ele = [1,2,3]\n",
    "v = bytearray(ele)\n",
    "print(v)"
   ]
  },
  {
   "cell_type": "code",
   "execution_count": null,
   "metadata": {},
   "outputs": [],
   "source": [
    "str = 'test'\n",
    "str2 = str + 'um'\n",
    "print(str2)"
   ]
  },
  {
   "cell_type": "code",
   "execution_count": null,
   "metadata": {},
   "outputs": [],
   "source": []
  }
 ],
 "metadata": {
  "kernelspec": {
   "display_name": "Python 2",
   "language": "python",
   "name": "python2"
  },
  "language_info": {
   "codemirror_mode": {
    "name": "ipython",
    "version": 3
   },
   "file_extension": ".py",
   "mimetype": "text/x-python",
   "name": "python",
   "nbconvert_exporter": "python",
   "pygments_lexer": "ipython3",
   "version": "3.6.5"
  }
 },
 "nbformat": 4,
 "nbformat_minor": 2
}
