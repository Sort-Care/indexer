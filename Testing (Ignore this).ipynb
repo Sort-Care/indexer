{
 "cells": [
  {
   "cell_type": "code",
   "execution_count": null,
   "metadata": {},
   "outputs": [],
   "source": [
    "import json"
   ]
  },
  {
   "cell_type": "code",
   "execution_count": null,
   "metadata": {},
   "outputs": [],
   "source": [
    "dc = {\n",
    "    'test': [(1,1), (2,3), (3,1)]\n",
    "}"
   ]
  },
  {
   "cell_type": "code",
   "execution_count": null,
   "metadata": {},
   "outputs": [],
   "source": [
    "s = json.dumps(dc).encode('utf-8')\n",
    "type(s)"
   ]
  },
  {
   "cell_type": "code",
   "execution_count": null,
   "metadata": {},
   "outputs": [],
   "source": [
    "print(s)"
   ]
  },
  {
   "cell_type": "code",
   "execution_count": null,
   "metadata": {},
   "outputs": [],
   "source": [
    "res = json.loads(s.decode('utf-8'))\n",
    "print(res)"
   ]
  },
  {
   "cell_type": "code",
   "execution_count": null,
   "metadata": {},
   "outputs": [],
   "source": [
    "def vbyte_encoding():\n",
    "    pass"
   ]
  },
  {
   "cell_type": "code",
   "execution_count": null,
   "metadata": {},
   "outputs": [],
   "source": [
    "def vbyte_decoding():\n",
    "    pass"
   ]
  },
  {
   "cell_type": "code",
   "execution_count": null,
   "metadata": {},
   "outputs": [],
   "source": [
    "print(134 >> 2)"
   ]
  },
  {
   "cell_type": "code",
   "execution_count": null,
   "metadata": {},
   "outputs": [],
   "source": [
    "def rshift(val, n):\n",
    "    return (val % 0x100000000) >> n"
   ]
  },
  {
   "cell_type": "code",
   "execution_count": null,
   "metadata": {},
   "outputs": [],
   "source": [
    "print(rshift(145, 7))"
   ]
  },
  {
   "cell_type": "code",
   "execution_count": null,
   "metadata": {},
   "outputs": [],
   "source": [
    "print( -1000 >> 3 )"
   ]
  },
  {
   "cell_type": "code",
   "execution_count": null,
   "metadata": {},
   "outputs": [],
   "source": [
    "from inv_util import *"
   ]
  },
  {
   "cell_type": "code",
   "execution_count": null,
   "metadata": {},
   "outputs": [],
   "source": [
    "def vbyte_encoding(arr):\n",
    "    ol = bytearray()\n",
    "    for i in arr:\n",
    "        while i >= 128:\n",
    "            ol.append( i & 0x7f )\n",
    "            i = rshift(i, 7)\n",
    "        ol.append(i | 0x80)\n",
    "    return ol"
   ]
  },
  {
   "cell_type": "code",
   "execution_count": null,
   "metadata": {},
   "outputs": [],
   "source": [
    "res = vbyte_encoding([1,2,1,128,1,3,6,1100,180,1,1,1])\n",
    "print(res)"
   ]
  },
  {
   "cell_type": "code",
   "execution_count": null,
   "metadata": {},
   "outputs": [],
   "source": [
    "def vbyte_decoding(arr):\n",
    "    ol = []\n",
    "    for i in range(len(arr)):\n",
    "        position = 0\n",
    "        res = int( arr[i] & 0x7f)\n",
    "        \n",
    "        while (arr[i] & 0x80) == 0:\n",
    "            i += 1\n",
    "            position += 1\n",
    "            unsignedByte = int( arr[i] & 0x7f )\n",
    "            res |= ( unsignedByte << (7 * position))\n",
    "        ol.append(res)\n",
    "    return ol\n",
    "\n",
    "def remove_sth(arr):\n",
    "    ra = []\n",
    "    ignoretag = False\n",
    "    for a in arr:\n",
    "        if ignoretag == False:\n",
    "            ra.append(a)\n",
    "        else:\n",
    "            ignoretag = False\n",
    "            continue\n",
    "        if a >= 128: \n",
    "            ignoretag = True\n",
    "    return ra"
   ]
  },
  {
   "cell_type": "code",
   "execution_count": null,
   "metadata": {},
   "outputs": [],
   "source": [
    "deres = vbyte_decoding(res)\n",
    "print(deres)\n",
    "removedres = remove_sth(deres)\n",
    "print(removedres)"
   ]
  },
  {
   "cell_type": "code",
   "execution_count": null,
   "metadata": {},
   "outputs": [],
   "source": [
    "print(bin(0x7f))"
   ]
  },
  {
   "cell_type": "code",
   "execution_count": null,
   "metadata": {},
   "outputs": [],
   "source": [
    "from invindex import * \n",
    "ind = Indexer('')"
   ]
  },
  {
   "cell_type": "code",
   "execution_count": null,
   "metadata": {},
   "outputs": [],
   "source": [
    "r1 = ind.vbyte_encoding([1,2,1,128,1,3,6,1100,180,1,1,1])\n",
    "print(len(r1))\n",
    "r2 = ind.vbyte_decoding(r1)\n",
    "print(r2)"
   ]
  },
  {
   "cell_type": "code",
   "execution_count": null,
   "metadata": {},
   "outputs": [],
   "source": [
    "import sys\n",
    "print(sys.getsizeof([1,2,3,4,5]))\n",
    "print(sys.getsizeof([]))"
   ]
  },
  {
   "cell_type": "code",
   "execution_count": null,
   "metadata": {},
   "outputs": [],
   "source": [
    "import sys\n",
    "import os\n",
    "lst = [1,2,3,4,5,100, 23, 34,25,13,23,45,23,45]\n",
    "byt = bytearray(lst)\n",
    "f = open('test.dat', 'wb')\n",
    "f.write(byt)\n",
    "f.close()"
   ]
  },
  {
   "cell_type": "code",
   "execution_count": null,
   "metadata": {},
   "outputs": [],
   "source": [
    "print(len(byt))"
   ]
  },
  {
   "cell_type": "code",
   "execution_count": null,
   "metadata": {},
   "outputs": [],
   "source": [
    "fs = os.stat('test.dat')\n",
    "fs.st_size\n",
    "f = open('test.dat', 'rb')\n",
    "f.seek(2)\n",
    "byvar = f.read(4)\n",
    "byvar\n",
    "f.close()"
   ]
  },
  {
   "cell_type": "code",
   "execution_count": null,
   "metadata": {},
   "outputs": [],
   "source": [
    "tb = bytearray([1,2,3,4])\n",
    "tb.append(2)"
   ]
  },
  {
   "cell_type": "code",
   "execution_count": null,
   "metadata": {},
   "outputs": [],
   "source": [
    "print(tb)"
   ]
  },
  {
   "cell_type": "code",
   "execution_count": null,
   "metadata": {},
   "outputs": [],
   "source": [
    "def write_data(filevar, offset, lst_data):\n",
    "        bdata = bytearray(lst_data) # convert it to bytearray if it is not\n",
    "        size = len(bdata)# get the length of bytes of the bytearray\n",
    "        filevar.seek(offset)\n",
    "        filevar.write(bdata)\n",
    "        return size\n",
    "    \n",
    "def read_data_chunk(filevar, offset, size):\n",
    "    filevar.seek(offset)\n",
    "    return filevar.read(size)"
   ]
  },
  {
   "cell_type": "code",
   "execution_count": null,
   "metadata": {},
   "outputs": [],
   "source": [
    "f = open('test.dat', 'r+b')"
   ]
  },
  {
   "cell_type": "code",
   "execution_count": null,
   "metadata": {},
   "outputs": [],
   "source": [
    "write_data(f, 14, [15,16,17])"
   ]
  },
  {
   "cell_type": "code",
   "execution_count": null,
   "metadata": {},
   "outputs": [],
   "source": [
    "s = read_data_chunk(f, 0, 4)"
   ]
  },
  {
   "cell_type": "code",
   "execution_count": null,
   "metadata": {},
   "outputs": [],
   "source": [
    "s[2]"
   ]
  },
  {
   "cell_type": "code",
   "execution_count": null,
   "metadata": {},
   "outputs": [],
   "source": [
    "num"
   ]
  },
  {
   "cell_type": "markdown",
   "metadata": {},
   "source": [
    "# Try Encoding first and Decoding from file"
   ]
  },
  {
   "cell_type": "code",
   "execution_count": null,
   "metadata": {},
   "outputs": [],
   "source": [
    "from invindex import *"
   ]
  },
  {
   "cell_type": "code",
   "execution_count": null,
   "metadata": {},
   "outputs": [],
   "source": [
    "test_lst = [1,180, 320, 122, 344]\n",
    "ind = Indexer('', '')\n",
    "res_bya = ind.vbyte_encoding(test_lst)"
   ]
  },
  {
   "cell_type": "code",
   "execution_count": null,
   "metadata": {},
   "outputs": [],
   "source": [
    "f = open('test2.dat', 'wb')\n",
    "ind.write_data(f, 0, res_bya)\n",
    "f.close()"
   ]
  },
  {
   "cell_type": "code",
   "execution_count": null,
   "metadata": {},
   "outputs": [],
   "source": [
    "f = open('test2.dat', 'rb')\n",
    "read_by = ind.read_data_chunk(f, 0, len(res_bya))"
   ]
  },
  {
   "cell_type": "code",
   "execution_count": null,
   "metadata": {},
   "outputs": [],
   "source": [
    "read_by"
   ]
  },
  {
   "cell_type": "code",
   "execution_count": null,
   "metadata": {},
   "outputs": [],
   "source": [
    "res = ind.vbyte_decoding(read_by)"
   ]
  },
  {
   "cell_type": "code",
   "execution_count": null,
   "metadata": {},
   "outputs": [],
   "source": [
    "res"
   ]
  },
  {
   "cell_type": "markdown",
   "metadata": {},
   "source": [
    "Yes! It works!"
   ]
  },
  {
   "cell_type": "code",
   "execution_count": 1,
   "metadata": {},
   "outputs": [],
   "source": [
    "from array import array\n",
    "tf = open('ta.dat', 'w')\n",
    "arr = [9,8,6,1]\n",
    "arr2 = [1,2,3,4]\n",
    "tf.write(str(arr) + '\\n')\n",
    "tf.write(str(arr2))\n",
    "tf.close()"
   ]
  },
  {
   "cell_type": "code",
   "execution_count": 4,
   "metadata": {},
   "outputs": [
    {
     "name": "stdout",
     "output_type": "stream",
     "text": [
      "[1, 2, 3, 4]\n"
     ]
    }
   ],
   "source": [
    "import linecache\n",
    "theline = linecache.getline('ta.dat', 2)\n",
    "print(eval(theline))"
   ]
  },
  {
   "cell_type": "code",
   "execution_count": null,
   "metadata": {},
   "outputs": [],
   "source": []
  }
 ],
 "metadata": {
  "kernelspec": {
   "display_name": "Python 2",
   "language": "python",
   "name": "python2"
  },
  "language_info": {
   "codemirror_mode": {
    "name": "ipython",
    "version": 3
   },
   "file_extension": ".py",
   "mimetype": "text/x-python",
   "name": "python",
   "nbconvert_exporter": "python",
   "pygments_lexer": "ipython3",
   "version": "3.6.5"
  }
 },
 "nbformat": 4,
 "nbformat_minor": 2
}
